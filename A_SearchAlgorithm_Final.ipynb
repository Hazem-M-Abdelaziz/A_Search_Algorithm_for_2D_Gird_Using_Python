{
  "cells": [
    {
      "cell_type": "code",
      "execution_count": 1,
      "id": "3f41f238-04fe-4ce2-a65e-ca3599df27f8",
      "metadata": {
        "id": "3f41f238-04fe-4ce2-a65e-ca3599df27f8"
      },
      "outputs": [],
      "source": [
        "import numpy as np\n",
        "import matplotlib.pyplot as plt\n",
        "import seaborn as sns\n",
        "paths = []"
      ]
    },
    {
      "cell_type": "code",
      "execution_count": 2,
      "id": "00e4f287-c1ad-443b-beb3-fd89395a1097",
      "metadata": {
        "id": "00e4f287-c1ad-443b-beb3-fd89395a1097"
      },
      "outputs": [],
      "source": [
        "from typing_extensions import Final\n",
        "def A_Search(startP, endP, world):\n",
        "    '''\n",
        "    Function tht takes start and end points with world grid as 2D array\n",
        "    Assuming startP = [1,1] / endP = [4,1] and world as following\n",
        "    [0   0   0   0   0]\n",
        "    [0   0   0   0   0]\n",
        "    [1   1   1   0   0]\n",
        "    [0   0   0   0   0]\n",
        "    [0   0   0   0   0]\n",
        "    with 0 as free cells and 1 is occupied.\n",
        "    and Modify that matrix to add map boundaries\n",
        "    '''\n",
        "    #Initiallizing NewWorld Matrix\n",
        "    new_row = len(world)+2\n",
        "    new_col = len(world[0])+2\n",
        "    World = np.zeros((new_row,new_col))\n",
        "    #Initializing Paths 2D array\n",
        "    for i in range(new_row):\n",
        "        for j in range(new_col):\n",
        "            if (i==0)or(j==0)or(i==new_row-1)or(j==new_col-1):\n",
        "                World[i][j] = 1\n",
        "            else:\n",
        "                World[i][j] = world[i-1][j-1]\n",
        "    ReachedGoal = False\n",
        "    #By Default initializing start and end\n",
        "    start = [1,1]\n",
        "    end = [5,5]\n",
        "    #Rewrite start and end by input values\n",
        "    start[0] = (startP[0])+1\n",
        "    start[1] = (startP[1])+1\n",
        "    end[0] = (endP[0])+1\n",
        "    end[1] = (endP[1])+1\n",
        "    currentCell = start\n",
        "    prevCell = currentCell # For the first time only\n",
        "    World[currentCell[0]][currentCell[1]] = 0.2\n",
        "    #Add Start Point To paths and update for the first time\n",
        "    while(not ReachedGoal):\n",
        "        #First leave a mark in the world that this point is passed by\n",
        "        World[currentCell[0]][currentCell[1]] = 1\n",
        "        prevCell = currentCell\n",
        "        nextCell,currH = SearchAvailableNext(currentCell, end, World)\n",
        "        UpdatePaths(nextCell, prevCell, currH)\n",
        "        currentCell = ChooseNext() #If multiple points take the last added one\n",
        "        #Pass the nextCell to UpdatePaths Function and make another function to choose next\n",
        "        #Update Current Cell\n",
        "        if(currentCell == end):\n",
        "            ReachedGoal = True\n",
        "\n",
        "    Sorted = SortPaths(paths)\n",
        "    print('Started at point: ' + str(startP))\n",
        "    print('Reached Goal at point: ' + str(endP))\n",
        "    print('Optimum Path: ', str(Sorted[0]))\n",
        "    print('With Total number of steps = ' + str(len(Sorted[0])))\n",
        "    Vizualization(Sorted,startP,world)"
      ]
    },
    {
      "cell_type": "code",
      "execution_count": 3,
      "id": "c097128f-6e26-4504-9e55-0e0a440aeb11",
      "metadata": {
        "id": "c097128f-6e26-4504-9e55-0e0a440aeb11"
      },
      "outputs": [],
      "source": [
        "def UpdatePaths(CurrPossible, prevPoint= [], hPoint = 0):\n",
        "    #For first call (We are not interested in Prev here as Prev is the start and path list is empty\n",
        "    if(len(paths) == 0):\n",
        "        for i in range(len(CurrPossible)):\n",
        "            paths.append([])\n",
        "            paths[-1].append([CurrPossible[i][0],CurrPossible[i][1],hPoint[i]])\n",
        "\n",
        "    #If CurrPossible is empty, so that path is stalled/blocked, add huge weight and dummy point to this path to avoid it\n",
        "    elif(len(CurrPossible) == 0):\n",
        "        for i in range(len(paths)):\n",
        "            if(paths[i][-1][:2] == prevPoint): #Add Last Point\n",
        "                paths[i].append([0,0,100])\n",
        "\n",
        "    #and here if there is already existing path\n",
        "    else:\n",
        "        for i in range(len(paths)):\n",
        "            if(paths[i][-1][:2] == prevPoint): #Add Last Point\n",
        "                paths[i].append([CurrPossible[-1][0],CurrPossible[-1][1],hPoint[-1]])\n",
        "                if(len(CurrPossible) > 1):\n",
        "                    for j in range(len(CurrPossible)-1):\n",
        "                        paths.append(paths[i][:-1])\n",
        "                        paths[-j-1].append([CurrPossible[j][0],CurrPossible[j][1],hPoint[j]])"
      ]
    },
    {
      "cell_type": "code",
      "execution_count": 4,
      "id": "3f293a44-2516-421d-baee-2489c4f84458",
      "metadata": {
        "id": "3f293a44-2516-421d-baee-2489c4f84458"
      },
      "outputs": [],
      "source": [
        "def ChooseNext():\n",
        "    #Two Possibilities (if only one cell has the lowest total weight (g+h)\n",
        "    #or multiple points having the same lowest total weight\n",
        "    nextActual = []\n",
        "    #Now lets select the path that has lowest total weight\n",
        "    totalWeight = []\n",
        "    if(len(paths) > 1):\n",
        "        for i in range(len(paths)):\n",
        "            g = len(paths[i])\n",
        "            h = paths[i][-1][-1]\n",
        "            f = g + h\n",
        "            totalWeight.append(f)\n",
        "        #That gives us something like [6,7,8,9,12] each number representing weight and each index representing path number\n",
        "        #So path 0 has 6 total weight and path 1 has 7 and so on\n",
        "        weightIndex=[] #this is a list to store indices for paths having lowest weight\n",
        "        min_f = min(totalWeight)\n",
        "        for i in range(len(totalWeight)):\n",
        "            if (totalWeight[i] == min_f):\n",
        "                totalWeight.append(i)\n",
        "        #By taking the last element if there is many and if its not we have only the first\n",
        "        nextActual = paths[totalWeight[-1]][-1][:2]\n",
        "    else:\n",
        "        y= paths[0][-1][0]\n",
        "        x= paths[0][-1][1]\n",
        "        nextActual = [y,x]\n",
        "    return nextActual\n"
      ]
    },
    {
      "cell_type": "code",
      "execution_count": 5,
      "id": "73bbb9c6-95cf-411c-8b41-05ae83df9939",
      "metadata": {
        "id": "73bbb9c6-95cf-411c-8b41-05ae83df9939"
      },
      "outputs": [],
      "source": [
        "def hValue(cur, goal):\n",
        "  #To calculate Heuristic Value\n",
        "    h = 0\n",
        "    h+= abs(cur[0]-goal[0])\n",
        "    h+= abs(cur[1]-goal[1])\n",
        "    return h"
      ]
    },
    {
      "cell_type": "code",
      "execution_count": 6,
      "id": "280a43b9-6005-4006-8314-6f8548e8ba36",
      "metadata": {
        "id": "280a43b9-6005-4006-8314-6f8548e8ba36"
      },
      "outputs": [],
      "source": [
        "def SearchAvailableNext(Cur, goal,worldMap):\n",
        "    #search for the next cell\n",
        "    #Cur is a Vector with x,y coordinates\n",
        "    possibleNext = [] #To store all possible next cells with their g\n",
        "    x = Cur[1]\n",
        "    y = Cur[0]\n",
        "    h_weights=[]\n",
        "    #Check surrounding 4 cells\n",
        "    if (worldMap[y][x+1]==0):\n",
        "        h = hValue([y,x+1],goal)\n",
        "        possibleNext.append([y, x+1])\n",
        "        h_weights.append(h)\n",
        "    if((worldMap[y][x-1]==0)):\n",
        "        h = hValue([y,x-1],goal)\n",
        "        h_weights.append(h)\n",
        "        possibleNext.append([y, x-1])\n",
        "    if((worldMap[y-1][x]==0)):\n",
        "        h = hValue([y-1,x],goal)\n",
        "        possibleNext.append([y-1, x])\n",
        "        h_weights.append(h)\n",
        "    if((worldMap[y+1][x]==0)):\n",
        "        h = hValue([y+1,x],goal)\n",
        "        possibleNext.append([y+1, x])\n",
        "        h_weights.append(h)\n",
        "\n",
        "    return possibleNext,h_weights"
      ]
    },
    {
      "cell_type": "code",
      "execution_count": 7,
      "id": "7bb38ae9-f766-4778-9c5b-b4682de433f7",
      "metadata": {
        "id": "7bb38ae9-f766-4778-9c5b-b4682de433f7"
      },
      "outputs": [],
      "source": [
        "def SortPaths(MessyPath):\n",
        "    #this function to sort missy path created and modify world map\n",
        "    #then print Heat map of navigated cells and cells for actual path\n",
        "    SortedPath = []\n",
        "    Correct = 0\n",
        "    for i in range(len(MessyPath)):\n",
        "        if(MessyPath[i][-1][-1] == 0):\n",
        "            SortedPath.append([])\n",
        "            for j in range(len(MessyPath[i])):\n",
        "              y = MessyPath[i][j][0] - 1\n",
        "              x = MessyPath[i][j][1] - 1\n",
        "              z = [y,x]\n",
        "              SortedPath[-1].append(z)\n",
        "    for i in range(len(MessyPath)):\n",
        "        SortedPath.append([])\n",
        "        for j in range(len(MessyPath[i])):\n",
        "            y = MessyPath[i][j][0] - 1\n",
        "            x = MessyPath[i][j][1] - 1\n",
        "            z = [y,x]\n",
        "            SortedPath[-1].append(z)\n",
        "    return SortedPath"
      ]
    },
    {
      "cell_type": "code",
      "execution_count": 8,
      "id": "fae53a35-2303-4de5-a52b-6578eab886ec",
      "metadata": {
        "id": "fae53a35-2303-4de5-a52b-6578eab886ec"
      },
      "outputs": [],
      "source": [
        "def Vizualization(ModifiedPaths,start,worldMap):\n",
        "    #This function to vizualize path using one color\n",
        "    #(obstacles with dark color)(navigated with light)(Actual path inbetween)\n",
        "    mapMatrix = worldMap\n",
        "    ActualPath = ModifiedPaths[0]\n",
        "    for i in range(len(ModifiedPaths)):\n",
        "        for j in range(len(ModifiedPaths[i])):\n",
        "            mapMatrix[ModifiedPaths[i][j][0]][ModifiedPaths[i][j][1]] = 0.2\n",
        "\n",
        "    for j in range(len(ModifiedPaths[0])):\n",
        "            mapMatrix[ModifiedPaths[0][j][0]][ModifiedPaths[0][j][1]] = 0.5\n",
        "\n",
        "    mapMatrix[start[0]][start[1]] = 0.5\n",
        "    sns.heatmap(mapMatrix,cmap='Reds', annot=True)\n",
        "    plt.title('Navigation Map')\n",
        "    plt.show()"
      ]
    },
    {
      "cell_type": "code",
      "execution_count": 9,
      "id": "c2054b90-af30-49fc-befb-393bfeb8473a",
      "metadata": {
        "id": "c2054b90-af30-49fc-befb-393bfeb8473a"
      },
      "outputs": [],
      "source": [
        "x = [[0,0,0,0,1,1,0,0,1,0],\n",
        "     [1,0,0,0,1,0,0,1,0,0],\n",
        "     [1,1,1,0,0,0,0,0,0,1],\n",
        "     [0,0,0,1,0,1,1,0,0,0],\n",
        "     [0,0,0,0,1,1,1,1,1,0],\n",
        "     [0,1,1,0,0,0,0,0,1,0],\n",
        "     [0,0,0,0,1,0,0,1,0,0],\n",
        "     [1,0,1,0,0,0,0,0,0,1],\n",
        "     [0,0,0,1,0,1,1,0,0,0],\n",
        "     [0,0,0,0,0,0,0,0,1,0],]"
      ]
    },
    {
      "cell_type": "code",
      "execution_count": 10,
      "id": "b5d2fe83-518c-46d4-a7c9-930cc806445e",
      "metadata": {
        "id": "b5d2fe83-518c-46d4-a7c9-930cc806445e",
        "colab": {
          "base_uri": "https://localhost:8080/",
          "height": 521
        },
        "outputId": "75e1dd29-f863-4df4-9db4-b70d5f67b48f"
      },
      "outputs": [
        {
          "output_type": "stream",
          "name": "stdout",
          "text": [
            "Started at point: [1, 1]\n",
            "Reached Goal at point: [9, 5]\n",
            "Optimum Path:  [[1, 2], [1, 3], [2, 3], [2, 4], [2, 5], [2, 6], [2, 7], [3, 7], [3, 8], [3, 9], [4, 9], [5, 9], [6, 9], [6, 8], [7, 8], [7, 7], [8, 7], [9, 7], [9, 6], [9, 5]]\n",
            "With Total number of steps = 20\n"
          ]
        },
        {
          "output_type": "display_data",
          "data": {
            "text/plain": [
              "<Figure size 640x480 with 2 Axes>"
            ],
            "image/png": "[encoded data removed]"
          },
          "metadata": {}
        }
      ],
      "source": [
        "A_Search([1,1],[9,5],x)"
      ]
    }
  ],
  "metadata": {
    "colab": {
      "provenance": []
    },
    "kernelspec": {
      "display_name": "Python 3 (ipykernel)",
      "language": "python",
      "name": "python3"
    },
    "language_info": {
      "codemirror_mode": {
        "name": "ipython",
        "version": 3
      },
      "file_extension": ".py",
      "mimetype": "text/x-python",
      "name": "python",
      "nbconvert_exporter": "python",
      "pygments_lexer": "ipython3",
      "version": "3.10.12"
    }
  },
  "nbformat": 4,
  "nbformat_minor": 5
}